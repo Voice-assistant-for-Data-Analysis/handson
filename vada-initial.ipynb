{
 "cells": [
  {
   "cell_type": "code",
   "execution_count": 223,
   "metadata": {
    "collapsed": true
   },
   "outputs": [],
   "source": [
    "import numpy as np\n",
    "import pandas as pd\n",
    "import matplotlib.pyplot as plt"
   ]
  },
  {
   "cell_type": "code",
   "execution_count": 224,
   "metadata": {
    "collapsed": true
   },
   "outputs": [],
   "source": [
    "sales_data = pd.read_csv(\"Downloads\\sales_data_sample.csv\",encoding='latin1')"
   ]
  },
  {
   "cell_type": "code",
   "execution_count": 225,
   "metadata": {},
   "outputs": [
    {
     "name": "stdout",
     "output_type": "stream",
     "text": [
      "(2823, 25)\n"
     ]
    }
   ],
   "source": [
    "sales_data_shape = sales_data.shape\n",
    "print(sales_data_shape)"
   ]
  },
  {
   "cell_type": "code",
   "execution_count": 226,
   "metadata": {},
   "outputs": [
    {
     "data": {
      "text/html": [
       "<div>\n",
       "<style>\n",
       "    .dataframe thead tr:only-child th {\n",
       "        text-align: right;\n",
       "    }\n",
       "\n",
       "    .dataframe thead th {\n",
       "        text-align: left;\n",
       "    }\n",
       "\n",
       "    .dataframe tbody tr th {\n",
       "        vertical-align: top;\n",
       "    }\n",
       "</style>\n",
       "<table border=\"1\" class=\"dataframe\">\n",
       "  <thead>\n",
       "    <tr style=\"text-align: right;\">\n",
       "      <th></th>\n",
       "      <th>ORDERNUMBER</th>\n",
       "      <th>QUANTITYORDERED</th>\n",
       "      <th>PRICEEACH</th>\n",
       "      <th>ORDERLINENUMBER</th>\n",
       "      <th>SALES</th>\n",
       "      <th>QTR_ID</th>\n",
       "      <th>MONTH_ID</th>\n",
       "      <th>YEAR_ID</th>\n",
       "      <th>MSRP</th>\n",
       "    </tr>\n",
       "  </thead>\n",
       "  <tbody>\n",
       "    <tr>\n",
       "      <th>count</th>\n",
       "      <td>2823.000000</td>\n",
       "      <td>2823.000000</td>\n",
       "      <td>2823.000000</td>\n",
       "      <td>2823.000000</td>\n",
       "      <td>2823.000000</td>\n",
       "      <td>2823.000000</td>\n",
       "      <td>2823.000000</td>\n",
       "      <td>2823.00000</td>\n",
       "      <td>2823.000000</td>\n",
       "    </tr>\n",
       "    <tr>\n",
       "      <th>mean</th>\n",
       "      <td>10258.725115</td>\n",
       "      <td>35.092809</td>\n",
       "      <td>83.658544</td>\n",
       "      <td>6.466171</td>\n",
       "      <td>3553.889072</td>\n",
       "      <td>2.717676</td>\n",
       "      <td>7.092455</td>\n",
       "      <td>2003.81509</td>\n",
       "      <td>100.715551</td>\n",
       "    </tr>\n",
       "    <tr>\n",
       "      <th>std</th>\n",
       "      <td>92.085478</td>\n",
       "      <td>9.741443</td>\n",
       "      <td>20.174277</td>\n",
       "      <td>4.225841</td>\n",
       "      <td>1841.865106</td>\n",
       "      <td>1.203878</td>\n",
       "      <td>3.656633</td>\n",
       "      <td>0.69967</td>\n",
       "      <td>40.187912</td>\n",
       "    </tr>\n",
       "    <tr>\n",
       "      <th>min</th>\n",
       "      <td>10100.000000</td>\n",
       "      <td>6.000000</td>\n",
       "      <td>26.880000</td>\n",
       "      <td>1.000000</td>\n",
       "      <td>482.130000</td>\n",
       "      <td>1.000000</td>\n",
       "      <td>1.000000</td>\n",
       "      <td>2003.00000</td>\n",
       "      <td>33.000000</td>\n",
       "    </tr>\n",
       "    <tr>\n",
       "      <th>25%</th>\n",
       "      <td>10180.000000</td>\n",
       "      <td>27.000000</td>\n",
       "      <td>68.860000</td>\n",
       "      <td>3.000000</td>\n",
       "      <td>2203.430000</td>\n",
       "      <td>2.000000</td>\n",
       "      <td>4.000000</td>\n",
       "      <td>2003.00000</td>\n",
       "      <td>68.000000</td>\n",
       "    </tr>\n",
       "    <tr>\n",
       "      <th>50%</th>\n",
       "      <td>10262.000000</td>\n",
       "      <td>35.000000</td>\n",
       "      <td>95.700000</td>\n",
       "      <td>6.000000</td>\n",
       "      <td>3184.800000</td>\n",
       "      <td>3.000000</td>\n",
       "      <td>8.000000</td>\n",
       "      <td>2004.00000</td>\n",
       "      <td>99.000000</td>\n",
       "    </tr>\n",
       "    <tr>\n",
       "      <th>75%</th>\n",
       "      <td>10333.500000</td>\n",
       "      <td>43.000000</td>\n",
       "      <td>100.000000</td>\n",
       "      <td>9.000000</td>\n",
       "      <td>4508.000000</td>\n",
       "      <td>4.000000</td>\n",
       "      <td>11.000000</td>\n",
       "      <td>2004.00000</td>\n",
       "      <td>124.000000</td>\n",
       "    </tr>\n",
       "    <tr>\n",
       "      <th>max</th>\n",
       "      <td>10425.000000</td>\n",
       "      <td>97.000000</td>\n",
       "      <td>100.000000</td>\n",
       "      <td>18.000000</td>\n",
       "      <td>14082.800000</td>\n",
       "      <td>4.000000</td>\n",
       "      <td>12.000000</td>\n",
       "      <td>2005.00000</td>\n",
       "      <td>214.000000</td>\n",
       "    </tr>\n",
       "  </tbody>\n",
       "</table>\n",
       "</div>"
      ],
      "text/plain": [
       "        ORDERNUMBER  QUANTITYORDERED    PRICEEACH  ORDERLINENUMBER  \\\n",
       "count   2823.000000      2823.000000  2823.000000      2823.000000   \n",
       "mean   10258.725115        35.092809    83.658544         6.466171   \n",
       "std       92.085478         9.741443    20.174277         4.225841   \n",
       "min    10100.000000         6.000000    26.880000         1.000000   \n",
       "25%    10180.000000        27.000000    68.860000         3.000000   \n",
       "50%    10262.000000        35.000000    95.700000         6.000000   \n",
       "75%    10333.500000        43.000000   100.000000         9.000000   \n",
       "max    10425.000000        97.000000   100.000000        18.000000   \n",
       "\n",
       "              SALES       QTR_ID     MONTH_ID     YEAR_ID         MSRP  \n",
       "count   2823.000000  2823.000000  2823.000000  2823.00000  2823.000000  \n",
       "mean    3553.889072     2.717676     7.092455  2003.81509   100.715551  \n",
       "std     1841.865106     1.203878     3.656633     0.69967    40.187912  \n",
       "min      482.130000     1.000000     1.000000  2003.00000    33.000000  \n",
       "25%     2203.430000     2.000000     4.000000  2003.00000    68.000000  \n",
       "50%     3184.800000     3.000000     8.000000  2004.00000    99.000000  \n",
       "75%     4508.000000     4.000000    11.000000  2004.00000   124.000000  \n",
       "max    14082.800000     4.000000    12.000000  2005.00000   214.000000  "
      ]
     },
     "execution_count": 226,
     "metadata": {},
     "output_type": "execute_result"
    }
   ],
   "source": [
    "sales_data.describe()"
   ]
  },
  {
   "cell_type": "code",
   "execution_count": 227,
   "metadata": {},
   "outputs": [
    {
     "data": {
      "text/html": [
       "<div>\n",
       "<style>\n",
       "    .dataframe thead tr:only-child th {\n",
       "        text-align: right;\n",
       "    }\n",
       "\n",
       "    .dataframe thead th {\n",
       "        text-align: left;\n",
       "    }\n",
       "\n",
       "    .dataframe tbody tr th {\n",
       "        vertical-align: top;\n",
       "    }\n",
       "</style>\n",
       "<table border=\"1\" class=\"dataframe\">\n",
       "  <thead>\n",
       "    <tr style=\"text-align: right;\">\n",
       "      <th></th>\n",
       "      <th>ORDERNUMBER</th>\n",
       "      <th>QUANTITYORDERED</th>\n",
       "      <th>PRICEEACH</th>\n",
       "      <th>ORDERLINENUMBER</th>\n",
       "      <th>SALES</th>\n",
       "      <th>ORDERDATE</th>\n",
       "      <th>STATUS</th>\n",
       "      <th>QTR_ID</th>\n",
       "      <th>MONTH_ID</th>\n",
       "      <th>YEAR_ID</th>\n",
       "      <th>...</th>\n",
       "      <th>ADDRESSLINE1</th>\n",
       "      <th>ADDRESSLINE2</th>\n",
       "      <th>CITY</th>\n",
       "      <th>STATE</th>\n",
       "      <th>POSTALCODE</th>\n",
       "      <th>COUNTRY</th>\n",
       "      <th>TERRITORY</th>\n",
       "      <th>CONTACTLASTNAME</th>\n",
       "      <th>CONTACTFIRSTNAME</th>\n",
       "      <th>DEALSIZE</th>\n",
       "    </tr>\n",
       "  </thead>\n",
       "  <tbody>\n",
       "    <tr>\n",
       "      <th>0</th>\n",
       "      <td>10107</td>\n",
       "      <td>30</td>\n",
       "      <td>95.70</td>\n",
       "      <td>2</td>\n",
       "      <td>2871.00</td>\n",
       "      <td>2/24/2003 0:00</td>\n",
       "      <td>Shipped</td>\n",
       "      <td>1</td>\n",
       "      <td>2</td>\n",
       "      <td>2003</td>\n",
       "      <td>...</td>\n",
       "      <td>897 Long Airport Avenue</td>\n",
       "      <td>NaN</td>\n",
       "      <td>NYC</td>\n",
       "      <td>NY</td>\n",
       "      <td>10022</td>\n",
       "      <td>USA</td>\n",
       "      <td>NaN</td>\n",
       "      <td>Yu</td>\n",
       "      <td>Kwai</td>\n",
       "      <td>Small</td>\n",
       "    </tr>\n",
       "    <tr>\n",
       "      <th>1</th>\n",
       "      <td>10121</td>\n",
       "      <td>34</td>\n",
       "      <td>81.35</td>\n",
       "      <td>5</td>\n",
       "      <td>2765.90</td>\n",
       "      <td>5/7/2003 0:00</td>\n",
       "      <td>Shipped</td>\n",
       "      <td>2</td>\n",
       "      <td>5</td>\n",
       "      <td>2003</td>\n",
       "      <td>...</td>\n",
       "      <td>59 rue de l'Abbaye</td>\n",
       "      <td>NaN</td>\n",
       "      <td>Reims</td>\n",
       "      <td>NaN</td>\n",
       "      <td>51100</td>\n",
       "      <td>France</td>\n",
       "      <td>EMEA</td>\n",
       "      <td>Henriot</td>\n",
       "      <td>Paul</td>\n",
       "      <td>Small</td>\n",
       "    </tr>\n",
       "    <tr>\n",
       "      <th>2</th>\n",
       "      <td>10134</td>\n",
       "      <td>41</td>\n",
       "      <td>94.74</td>\n",
       "      <td>2</td>\n",
       "      <td>3884.34</td>\n",
       "      <td>7/1/2003 0:00</td>\n",
       "      <td>Shipped</td>\n",
       "      <td>3</td>\n",
       "      <td>7</td>\n",
       "      <td>2003</td>\n",
       "      <td>...</td>\n",
       "      <td>27 rue du Colonel Pierre Avia</td>\n",
       "      <td>NaN</td>\n",
       "      <td>Paris</td>\n",
       "      <td>NaN</td>\n",
       "      <td>75508</td>\n",
       "      <td>France</td>\n",
       "      <td>EMEA</td>\n",
       "      <td>Da Cunha</td>\n",
       "      <td>Daniel</td>\n",
       "      <td>Medium</td>\n",
       "    </tr>\n",
       "    <tr>\n",
       "      <th>3</th>\n",
       "      <td>10145</td>\n",
       "      <td>45</td>\n",
       "      <td>83.26</td>\n",
       "      <td>6</td>\n",
       "      <td>3746.70</td>\n",
       "      <td>8/25/2003 0:00</td>\n",
       "      <td>Shipped</td>\n",
       "      <td>3</td>\n",
       "      <td>8</td>\n",
       "      <td>2003</td>\n",
       "      <td>...</td>\n",
       "      <td>78934 Hillside Dr.</td>\n",
       "      <td>NaN</td>\n",
       "      <td>Pasadena</td>\n",
       "      <td>CA</td>\n",
       "      <td>90003</td>\n",
       "      <td>USA</td>\n",
       "      <td>NaN</td>\n",
       "      <td>Young</td>\n",
       "      <td>Julie</td>\n",
       "      <td>Medium</td>\n",
       "    </tr>\n",
       "    <tr>\n",
       "      <th>4</th>\n",
       "      <td>10159</td>\n",
       "      <td>49</td>\n",
       "      <td>100.00</td>\n",
       "      <td>14</td>\n",
       "      <td>5205.27</td>\n",
       "      <td>10/10/2003 0:00</td>\n",
       "      <td>Shipped</td>\n",
       "      <td>4</td>\n",
       "      <td>10</td>\n",
       "      <td>2003</td>\n",
       "      <td>...</td>\n",
       "      <td>7734 Strong St.</td>\n",
       "      <td>NaN</td>\n",
       "      <td>San Francisco</td>\n",
       "      <td>CA</td>\n",
       "      <td>NaN</td>\n",
       "      <td>USA</td>\n",
       "      <td>NaN</td>\n",
       "      <td>Brown</td>\n",
       "      <td>Julie</td>\n",
       "      <td>Medium</td>\n",
       "    </tr>\n",
       "  </tbody>\n",
       "</table>\n",
       "<p>5 rows × 25 columns</p>\n",
       "</div>"
      ],
      "text/plain": [
       "   ORDERNUMBER  QUANTITYORDERED  PRICEEACH  ORDERLINENUMBER    SALES  \\\n",
       "0        10107               30      95.70                2  2871.00   \n",
       "1        10121               34      81.35                5  2765.90   \n",
       "2        10134               41      94.74                2  3884.34   \n",
       "3        10145               45      83.26                6  3746.70   \n",
       "4        10159               49     100.00               14  5205.27   \n",
       "\n",
       "         ORDERDATE   STATUS  QTR_ID  MONTH_ID  YEAR_ID   ...     \\\n",
       "0   2/24/2003 0:00  Shipped       1         2     2003   ...      \n",
       "1    5/7/2003 0:00  Shipped       2         5     2003   ...      \n",
       "2    7/1/2003 0:00  Shipped       3         7     2003   ...      \n",
       "3   8/25/2003 0:00  Shipped       3         8     2003   ...      \n",
       "4  10/10/2003 0:00  Shipped       4        10     2003   ...      \n",
       "\n",
       "                    ADDRESSLINE1  ADDRESSLINE2           CITY STATE  \\\n",
       "0        897 Long Airport Avenue           NaN            NYC    NY   \n",
       "1             59 rue de l'Abbaye           NaN          Reims   NaN   \n",
       "2  27 rue du Colonel Pierre Avia           NaN          Paris   NaN   \n",
       "3             78934 Hillside Dr.           NaN       Pasadena    CA   \n",
       "4                7734 Strong St.           NaN  San Francisco    CA   \n",
       "\n",
       "  POSTALCODE COUNTRY TERRITORY CONTACTLASTNAME CONTACTFIRSTNAME DEALSIZE  \n",
       "0      10022     USA       NaN              Yu             Kwai    Small  \n",
       "1      51100  France      EMEA         Henriot             Paul    Small  \n",
       "2      75508  France      EMEA        Da Cunha           Daniel   Medium  \n",
       "3      90003     USA       NaN           Young            Julie   Medium  \n",
       "4        NaN     USA       NaN           Brown            Julie   Medium  \n",
       "\n",
       "[5 rows x 25 columns]"
      ]
     },
     "execution_count": 227,
     "metadata": {},
     "output_type": "execute_result"
    }
   ],
   "source": [
    "sales_data.head()"
   ]
  },
  {
   "cell_type": "code",
   "execution_count": 228,
   "metadata": {},
   "outputs": [
    {
     "data": {
      "text/plain": [
       "Index(['ORDERNUMBER', 'QUANTITYORDERED', 'PRICEEACH', 'ORDERLINENUMBER',\n",
       "       'SALES', 'ORDERDATE', 'STATUS', 'QTR_ID', 'MONTH_ID', 'YEAR_ID',\n",
       "       'PRODUCTLINE', 'MSRP', 'PRODUCTCODE', 'CUSTOMERNAME', 'PHONE',\n",
       "       'ADDRESSLINE1', 'ADDRESSLINE2', 'CITY', 'STATE', 'POSTALCODE',\n",
       "       'COUNTRY', 'TERRITORY', 'CONTACTLASTNAME', 'CONTACTFIRSTNAME',\n",
       "       'DEALSIZE'],\n",
       "      dtype='object')"
      ]
     },
     "execution_count": 228,
     "metadata": {},
     "output_type": "execute_result"
    }
   ],
   "source": [
    "sales_data.columns"
   ]
  },
  {
   "cell_type": "code",
   "execution_count": 229,
   "metadata": {},
   "outputs": [
    {
     "data": {
      "text/plain": [
       "ORDERNUMBER           int64\n",
       "QUANTITYORDERED       int64\n",
       "PRICEEACH           float64\n",
       "ORDERLINENUMBER       int64\n",
       "SALES               float64\n",
       "ORDERDATE            object\n",
       "STATUS               object\n",
       "QTR_ID                int64\n",
       "MONTH_ID              int64\n",
       "YEAR_ID               int64\n",
       "PRODUCTLINE          object\n",
       "MSRP                  int64\n",
       "PRODUCTCODE          object\n",
       "CUSTOMERNAME         object\n",
       "PHONE                object\n",
       "ADDRESSLINE1         object\n",
       "ADDRESSLINE2         object\n",
       "CITY                 object\n",
       "STATE                object\n",
       "POSTALCODE           object\n",
       "COUNTRY              object\n",
       "TERRITORY            object\n",
       "CONTACTLASTNAME      object\n",
       "CONTACTFIRSTNAME     object\n",
       "DEALSIZE             object\n",
       "dtype: object"
      ]
     },
     "execution_count": 229,
     "metadata": {},
     "output_type": "execute_result"
    }
   ],
   "source": [
    "# data type of each column\n",
    "sales_data.dtypes"
   ]
  },
  {
   "cell_type": "markdown",
   "metadata": {},
   "source": [
    "# Preprocessing"
   ]
  },
  {
   "cell_type": "code",
   "execution_count": 230,
   "metadata": {
    "collapsed": true
   },
   "outputs": [],
   "source": [
    "sales_data[\"TERRITORY\"] = sales_data[\"TERRITORY\"].replace(np.nan,'NA')"
   ]
  },
  {
   "cell_type": "code",
   "execution_count": 231,
   "metadata": {
    "collapsed": true
   },
   "outputs": [],
   "source": [
    "sales_data = sales_data.drop(['ADDRESSLINE2'],1)"
   ]
  },
  {
   "cell_type": "markdown",
   "metadata": {},
   "source": [
    "### Sales_data shape after dropping a column"
   ]
  },
  {
   "cell_type": "code",
   "execution_count": 232,
   "metadata": {},
   "outputs": [
    {
     "data": {
      "text/plain": [
       "(2823, 24)"
      ]
     },
     "execution_count": 232,
     "metadata": {},
     "output_type": "execute_result"
    }
   ],
   "source": [
    "sales_data.shape"
   ]
  },
  {
   "cell_type": "markdown",
   "metadata": {},
   "source": [
    "### Converting 'ORDERDATE' column from str to datetime dtype"
   ]
  },
  {
   "cell_type": "code",
   "execution_count": 233,
   "metadata": {},
   "outputs": [
    {
     "data": {
      "text/plain": [
       "str"
      ]
     },
     "execution_count": 233,
     "metadata": {},
     "output_type": "execute_result"
    }
   ],
   "source": [
    "type(sales_data['ORDERDATE'][0])"
   ]
  },
  {
   "cell_type": "code",
   "execution_count": 234,
   "metadata": {
    "collapsed": true
   },
   "outputs": [],
   "source": [
    "sales_data['ORDERDATE'] = pd.to_datetime(sales_data['ORDERDATE'])"
   ]
  },
  {
   "cell_type": "code",
   "execution_count": 235,
   "metadata": {},
   "outputs": [
    {
     "data": {
      "text/plain": [
       "pandas._libs.tslib.Timestamp"
      ]
     },
     "execution_count": 235,
     "metadata": {},
     "output_type": "execute_result"
    }
   ],
   "source": [
    "type(sales_data['ORDERDATE'][0])"
   ]
  },
  {
   "cell_type": "code",
   "execution_count": 236,
   "metadata": {},
   "outputs": [
    {
     "data": {
      "text/html": [
       "<div>\n",
       "<style>\n",
       "    .dataframe thead tr:only-child th {\n",
       "        text-align: right;\n",
       "    }\n",
       "\n",
       "    .dataframe thead th {\n",
       "        text-align: left;\n",
       "    }\n",
       "\n",
       "    .dataframe tbody tr th {\n",
       "        vertical-align: top;\n",
       "    }\n",
       "</style>\n",
       "<table border=\"1\" class=\"dataframe\">\n",
       "  <thead>\n",
       "    <tr style=\"text-align: right;\">\n",
       "      <th></th>\n",
       "      <th>ORDERNUMBER</th>\n",
       "      <th>QUANTITYORDERED</th>\n",
       "      <th>PRICEEACH</th>\n",
       "      <th>ORDERLINENUMBER</th>\n",
       "      <th>SALES</th>\n",
       "      <th>ORDERDATE</th>\n",
       "      <th>STATUS</th>\n",
       "      <th>QTR_ID</th>\n",
       "      <th>MONTH_ID</th>\n",
       "      <th>YEAR_ID</th>\n",
       "      <th>...</th>\n",
       "      <th>PHONE</th>\n",
       "      <th>ADDRESSLINE1</th>\n",
       "      <th>CITY</th>\n",
       "      <th>STATE</th>\n",
       "      <th>POSTALCODE</th>\n",
       "      <th>COUNTRY</th>\n",
       "      <th>TERRITORY</th>\n",
       "      <th>CONTACTLASTNAME</th>\n",
       "      <th>CONTACTFIRSTNAME</th>\n",
       "      <th>DEALSIZE</th>\n",
       "    </tr>\n",
       "  </thead>\n",
       "  <tbody>\n",
       "    <tr>\n",
       "      <th>0</th>\n",
       "      <td>10107</td>\n",
       "      <td>30</td>\n",
       "      <td>95.70</td>\n",
       "      <td>2</td>\n",
       "      <td>2871.00</td>\n",
       "      <td>2003-02-24</td>\n",
       "      <td>Shipped</td>\n",
       "      <td>1</td>\n",
       "      <td>2</td>\n",
       "      <td>2003</td>\n",
       "      <td>...</td>\n",
       "      <td>2125557818</td>\n",
       "      <td>897 Long Airport Avenue</td>\n",
       "      <td>NYC</td>\n",
       "      <td>NY</td>\n",
       "      <td>10022</td>\n",
       "      <td>USA</td>\n",
       "      <td>NA</td>\n",
       "      <td>Yu</td>\n",
       "      <td>Kwai</td>\n",
       "      <td>Small</td>\n",
       "    </tr>\n",
       "    <tr>\n",
       "      <th>1</th>\n",
       "      <td>10121</td>\n",
       "      <td>34</td>\n",
       "      <td>81.35</td>\n",
       "      <td>5</td>\n",
       "      <td>2765.90</td>\n",
       "      <td>2003-05-07</td>\n",
       "      <td>Shipped</td>\n",
       "      <td>2</td>\n",
       "      <td>5</td>\n",
       "      <td>2003</td>\n",
       "      <td>...</td>\n",
       "      <td>26.47.1555</td>\n",
       "      <td>59 rue de l'Abbaye</td>\n",
       "      <td>Reims</td>\n",
       "      <td>NaN</td>\n",
       "      <td>51100</td>\n",
       "      <td>France</td>\n",
       "      <td>EMEA</td>\n",
       "      <td>Henriot</td>\n",
       "      <td>Paul</td>\n",
       "      <td>Small</td>\n",
       "    </tr>\n",
       "    <tr>\n",
       "      <th>2</th>\n",
       "      <td>10134</td>\n",
       "      <td>41</td>\n",
       "      <td>94.74</td>\n",
       "      <td>2</td>\n",
       "      <td>3884.34</td>\n",
       "      <td>2003-07-01</td>\n",
       "      <td>Shipped</td>\n",
       "      <td>3</td>\n",
       "      <td>7</td>\n",
       "      <td>2003</td>\n",
       "      <td>...</td>\n",
       "      <td>+33 1 46 62 7555</td>\n",
       "      <td>27 rue du Colonel Pierre Avia</td>\n",
       "      <td>Paris</td>\n",
       "      <td>NaN</td>\n",
       "      <td>75508</td>\n",
       "      <td>France</td>\n",
       "      <td>EMEA</td>\n",
       "      <td>Da Cunha</td>\n",
       "      <td>Daniel</td>\n",
       "      <td>Medium</td>\n",
       "    </tr>\n",
       "    <tr>\n",
       "      <th>3</th>\n",
       "      <td>10145</td>\n",
       "      <td>45</td>\n",
       "      <td>83.26</td>\n",
       "      <td>6</td>\n",
       "      <td>3746.70</td>\n",
       "      <td>2003-08-25</td>\n",
       "      <td>Shipped</td>\n",
       "      <td>3</td>\n",
       "      <td>8</td>\n",
       "      <td>2003</td>\n",
       "      <td>...</td>\n",
       "      <td>6265557265</td>\n",
       "      <td>78934 Hillside Dr.</td>\n",
       "      <td>Pasadena</td>\n",
       "      <td>CA</td>\n",
       "      <td>90003</td>\n",
       "      <td>USA</td>\n",
       "      <td>NA</td>\n",
       "      <td>Young</td>\n",
       "      <td>Julie</td>\n",
       "      <td>Medium</td>\n",
       "    </tr>\n",
       "    <tr>\n",
       "      <th>4</th>\n",
       "      <td>10159</td>\n",
       "      <td>49</td>\n",
       "      <td>100.00</td>\n",
       "      <td>14</td>\n",
       "      <td>5205.27</td>\n",
       "      <td>2003-10-10</td>\n",
       "      <td>Shipped</td>\n",
       "      <td>4</td>\n",
       "      <td>10</td>\n",
       "      <td>2003</td>\n",
       "      <td>...</td>\n",
       "      <td>6505551386</td>\n",
       "      <td>7734 Strong St.</td>\n",
       "      <td>San Francisco</td>\n",
       "      <td>CA</td>\n",
       "      <td>NaN</td>\n",
       "      <td>USA</td>\n",
       "      <td>NA</td>\n",
       "      <td>Brown</td>\n",
       "      <td>Julie</td>\n",
       "      <td>Medium</td>\n",
       "    </tr>\n",
       "  </tbody>\n",
       "</table>\n",
       "<p>5 rows × 24 columns</p>\n",
       "</div>"
      ],
      "text/plain": [
       "   ORDERNUMBER  QUANTITYORDERED  PRICEEACH  ORDERLINENUMBER    SALES  \\\n",
       "0        10107               30      95.70                2  2871.00   \n",
       "1        10121               34      81.35                5  2765.90   \n",
       "2        10134               41      94.74                2  3884.34   \n",
       "3        10145               45      83.26                6  3746.70   \n",
       "4        10159               49     100.00               14  5205.27   \n",
       "\n",
       "   ORDERDATE   STATUS  QTR_ID  MONTH_ID  YEAR_ID   ...                PHONE  \\\n",
       "0 2003-02-24  Shipped       1         2     2003   ...           2125557818   \n",
       "1 2003-05-07  Shipped       2         5     2003   ...           26.47.1555   \n",
       "2 2003-07-01  Shipped       3         7     2003   ...     +33 1 46 62 7555   \n",
       "3 2003-08-25  Shipped       3         8     2003   ...           6265557265   \n",
       "4 2003-10-10  Shipped       4        10     2003   ...           6505551386   \n",
       "\n",
       "                    ADDRESSLINE1           CITY STATE POSTALCODE COUNTRY  \\\n",
       "0        897 Long Airport Avenue            NYC    NY      10022     USA   \n",
       "1             59 rue de l'Abbaye          Reims   NaN      51100  France   \n",
       "2  27 rue du Colonel Pierre Avia          Paris   NaN      75508  France   \n",
       "3             78934 Hillside Dr.       Pasadena    CA      90003     USA   \n",
       "4                7734 Strong St.  San Francisco    CA        NaN     USA   \n",
       "\n",
       "  TERRITORY CONTACTLASTNAME CONTACTFIRSTNAME DEALSIZE  \n",
       "0        NA              Yu             Kwai    Small  \n",
       "1      EMEA         Henriot             Paul    Small  \n",
       "2      EMEA        Da Cunha           Daniel   Medium  \n",
       "3        NA           Young            Julie   Medium  \n",
       "4        NA           Brown            Julie   Medium  \n",
       "\n",
       "[5 rows x 24 columns]"
      ]
     },
     "execution_count": 236,
     "metadata": {},
     "output_type": "execute_result"
    }
   ],
   "source": [
    "sales_data.head()"
   ]
  },
  {
   "cell_type": "markdown",
   "metadata": {},
   "source": [
    "## check empty values in the data set"
   ]
  },
  {
   "cell_type": "code",
   "execution_count": 237,
   "metadata": {},
   "outputs": [
    {
     "data": {
      "text/plain": [
       "ORDERNUMBER            0\n",
       "QUANTITYORDERED        0\n",
       "PRICEEACH              0\n",
       "ORDERLINENUMBER        0\n",
       "SALES                  0\n",
       "ORDERDATE              0\n",
       "STATUS                 0\n",
       "QTR_ID                 0\n",
       "MONTH_ID               0\n",
       "YEAR_ID                0\n",
       "PRODUCTLINE            0\n",
       "MSRP                   0\n",
       "PRODUCTCODE            0\n",
       "CUSTOMERNAME           0\n",
       "PHONE                  0\n",
       "ADDRESSLINE1           0\n",
       "CITY                   0\n",
       "STATE               1486\n",
       "POSTALCODE            76\n",
       "COUNTRY                0\n",
       "TERRITORY              0\n",
       "CONTACTLASTNAME        0\n",
       "CONTACTFIRSTNAME       0\n",
       "DEALSIZE               0\n",
       "dtype: int64"
      ]
     },
     "execution_count": 237,
     "metadata": {},
     "output_type": "execute_result"
    }
   ],
   "source": [
    "sales_data.isnull().sum()"
   ]
  },
  {
   "cell_type": "code",
   "execution_count": 238,
   "metadata": {
    "collapsed": true
   },
   "outputs": [],
   "source": [
    "# as sales_data['STATE'] has 1486 entries, instead of removing those rows replacing them with 'OTHER'\n",
    "sales_data['STATE'] = sales_data['STATE'].replace(np.nan,'OTHER')"
   ]
  },
  {
   "cell_type": "code",
   "execution_count": 239,
   "metadata": {},
   "outputs": [
    {
     "data": {
      "text/html": [
       "<div>\n",
       "<style>\n",
       "    .dataframe thead tr:only-child th {\n",
       "        text-align: right;\n",
       "    }\n",
       "\n",
       "    .dataframe thead th {\n",
       "        text-align: left;\n",
       "    }\n",
       "\n",
       "    .dataframe tbody tr th {\n",
       "        vertical-align: top;\n",
       "    }\n",
       "</style>\n",
       "<table border=\"1\" class=\"dataframe\">\n",
       "  <thead>\n",
       "    <tr style=\"text-align: right;\">\n",
       "      <th></th>\n",
       "      <th>ORDERNUMBER</th>\n",
       "      <th>QUANTITYORDERED</th>\n",
       "      <th>PRICEEACH</th>\n",
       "      <th>ORDERLINENUMBER</th>\n",
       "      <th>SALES</th>\n",
       "      <th>ORDERDATE</th>\n",
       "      <th>STATUS</th>\n",
       "      <th>QTR_ID</th>\n",
       "      <th>MONTH_ID</th>\n",
       "      <th>YEAR_ID</th>\n",
       "      <th>...</th>\n",
       "      <th>PHONE</th>\n",
       "      <th>ADDRESSLINE1</th>\n",
       "      <th>CITY</th>\n",
       "      <th>STATE</th>\n",
       "      <th>POSTALCODE</th>\n",
       "      <th>COUNTRY</th>\n",
       "      <th>TERRITORY</th>\n",
       "      <th>CONTACTLASTNAME</th>\n",
       "      <th>CONTACTFIRSTNAME</th>\n",
       "      <th>DEALSIZE</th>\n",
       "    </tr>\n",
       "  </thead>\n",
       "  <tbody>\n",
       "    <tr>\n",
       "      <th>0</th>\n",
       "      <td>10107</td>\n",
       "      <td>30</td>\n",
       "      <td>95.70</td>\n",
       "      <td>2</td>\n",
       "      <td>2871.00</td>\n",
       "      <td>2003-02-24</td>\n",
       "      <td>Shipped</td>\n",
       "      <td>1</td>\n",
       "      <td>2</td>\n",
       "      <td>2003</td>\n",
       "      <td>...</td>\n",
       "      <td>2125557818</td>\n",
       "      <td>897 Long Airport Avenue</td>\n",
       "      <td>NYC</td>\n",
       "      <td>NY</td>\n",
       "      <td>10022</td>\n",
       "      <td>USA</td>\n",
       "      <td>NA</td>\n",
       "      <td>Yu</td>\n",
       "      <td>Kwai</td>\n",
       "      <td>Small</td>\n",
       "    </tr>\n",
       "    <tr>\n",
       "      <th>1</th>\n",
       "      <td>10121</td>\n",
       "      <td>34</td>\n",
       "      <td>81.35</td>\n",
       "      <td>5</td>\n",
       "      <td>2765.90</td>\n",
       "      <td>2003-05-07</td>\n",
       "      <td>Shipped</td>\n",
       "      <td>2</td>\n",
       "      <td>5</td>\n",
       "      <td>2003</td>\n",
       "      <td>...</td>\n",
       "      <td>26.47.1555</td>\n",
       "      <td>59 rue de l'Abbaye</td>\n",
       "      <td>Reims</td>\n",
       "      <td>OTHER</td>\n",
       "      <td>51100</td>\n",
       "      <td>France</td>\n",
       "      <td>EMEA</td>\n",
       "      <td>Henriot</td>\n",
       "      <td>Paul</td>\n",
       "      <td>Small</td>\n",
       "    </tr>\n",
       "    <tr>\n",
       "      <th>2</th>\n",
       "      <td>10134</td>\n",
       "      <td>41</td>\n",
       "      <td>94.74</td>\n",
       "      <td>2</td>\n",
       "      <td>3884.34</td>\n",
       "      <td>2003-07-01</td>\n",
       "      <td>Shipped</td>\n",
       "      <td>3</td>\n",
       "      <td>7</td>\n",
       "      <td>2003</td>\n",
       "      <td>...</td>\n",
       "      <td>+33 1 46 62 7555</td>\n",
       "      <td>27 rue du Colonel Pierre Avia</td>\n",
       "      <td>Paris</td>\n",
       "      <td>OTHER</td>\n",
       "      <td>75508</td>\n",
       "      <td>France</td>\n",
       "      <td>EMEA</td>\n",
       "      <td>Da Cunha</td>\n",
       "      <td>Daniel</td>\n",
       "      <td>Medium</td>\n",
       "    </tr>\n",
       "    <tr>\n",
       "      <th>3</th>\n",
       "      <td>10145</td>\n",
       "      <td>45</td>\n",
       "      <td>83.26</td>\n",
       "      <td>6</td>\n",
       "      <td>3746.70</td>\n",
       "      <td>2003-08-25</td>\n",
       "      <td>Shipped</td>\n",
       "      <td>3</td>\n",
       "      <td>8</td>\n",
       "      <td>2003</td>\n",
       "      <td>...</td>\n",
       "      <td>6265557265</td>\n",
       "      <td>78934 Hillside Dr.</td>\n",
       "      <td>Pasadena</td>\n",
       "      <td>CA</td>\n",
       "      <td>90003</td>\n",
       "      <td>USA</td>\n",
       "      <td>NA</td>\n",
       "      <td>Young</td>\n",
       "      <td>Julie</td>\n",
       "      <td>Medium</td>\n",
       "    </tr>\n",
       "    <tr>\n",
       "      <th>4</th>\n",
       "      <td>10159</td>\n",
       "      <td>49</td>\n",
       "      <td>100.00</td>\n",
       "      <td>14</td>\n",
       "      <td>5205.27</td>\n",
       "      <td>2003-10-10</td>\n",
       "      <td>Shipped</td>\n",
       "      <td>4</td>\n",
       "      <td>10</td>\n",
       "      <td>2003</td>\n",
       "      <td>...</td>\n",
       "      <td>6505551386</td>\n",
       "      <td>7734 Strong St.</td>\n",
       "      <td>San Francisco</td>\n",
       "      <td>CA</td>\n",
       "      <td>NaN</td>\n",
       "      <td>USA</td>\n",
       "      <td>NA</td>\n",
       "      <td>Brown</td>\n",
       "      <td>Julie</td>\n",
       "      <td>Medium</td>\n",
       "    </tr>\n",
       "  </tbody>\n",
       "</table>\n",
       "<p>5 rows × 24 columns</p>\n",
       "</div>"
      ],
      "text/plain": [
       "   ORDERNUMBER  QUANTITYORDERED  PRICEEACH  ORDERLINENUMBER    SALES  \\\n",
       "0        10107               30      95.70                2  2871.00   \n",
       "1        10121               34      81.35                5  2765.90   \n",
       "2        10134               41      94.74                2  3884.34   \n",
       "3        10145               45      83.26                6  3746.70   \n",
       "4        10159               49     100.00               14  5205.27   \n",
       "\n",
       "   ORDERDATE   STATUS  QTR_ID  MONTH_ID  YEAR_ID   ...                PHONE  \\\n",
       "0 2003-02-24  Shipped       1         2     2003   ...           2125557818   \n",
       "1 2003-05-07  Shipped       2         5     2003   ...           26.47.1555   \n",
       "2 2003-07-01  Shipped       3         7     2003   ...     +33 1 46 62 7555   \n",
       "3 2003-08-25  Shipped       3         8     2003   ...           6265557265   \n",
       "4 2003-10-10  Shipped       4        10     2003   ...           6505551386   \n",
       "\n",
       "                    ADDRESSLINE1           CITY  STATE POSTALCODE COUNTRY  \\\n",
       "0        897 Long Airport Avenue            NYC     NY      10022     USA   \n",
       "1             59 rue de l'Abbaye          Reims  OTHER      51100  France   \n",
       "2  27 rue du Colonel Pierre Avia          Paris  OTHER      75508  France   \n",
       "3             78934 Hillside Dr.       Pasadena     CA      90003     USA   \n",
       "4                7734 Strong St.  San Francisco     CA        NaN     USA   \n",
       "\n",
       "  TERRITORY CONTACTLASTNAME CONTACTFIRSTNAME DEALSIZE  \n",
       "0        NA              Yu             Kwai    Small  \n",
       "1      EMEA         Henriot             Paul    Small  \n",
       "2      EMEA        Da Cunha           Daniel   Medium  \n",
       "3        NA           Young            Julie   Medium  \n",
       "4        NA           Brown            Julie   Medium  \n",
       "\n",
       "[5 rows x 24 columns]"
      ]
     },
     "execution_count": 239,
     "metadata": {},
     "output_type": "execute_result"
    }
   ],
   "source": [
    "sales_data.head()"
   ]
  },
  {
   "cell_type": "markdown",
   "metadata": {},
   "source": [
    "### Analysis of data"
   ]
  },
  {
   "cell_type": "markdown",
   "metadata": {},
   "source": [
    "#### Analysis Functions"
   ]
  },
  {
   "cell_type": "code",
   "execution_count": 278,
   "metadata": {},
   "outputs": [],
   "source": [
    "# A generic function to get the sales by <particular item>\n",
    "def getSales(inlist,colname,**kwargs):\n",
    "    \"\"\"\n",
    "    A generic function to get the sales by <particular item>\n",
    "    \n",
    "    returns a dictionary with inlist as keys and the sales as values\n",
    "    \n",
    "    Parameters\n",
    "    ----------\n",
    "    inlist : list\n",
    "            list of items where sales is calculated which are generated by these items\n",
    "    colname : str\n",
    "            column name where the inlist items are present\n",
    "    kwargs :\n",
    "        year : int\n",
    "            year number for which sales is calculated\n",
    "    \"\"\"\n",
    "    res = {}\n",
    "    if (len(kwargs) == 0):\n",
    "        for item in inlist:\n",
    "            res[item] = sales_data[sales_data[colname] == item]['SALES'].sum()\n",
    "    else:\n",
    "        for item in inlist:\n",
    "            res[item] = sales_data[(sales_data[colname] == item) & (sales_data['YEAR_ID'] == kwargs['year'])]['SALES'].sum()\n",
    "    return res"
   ]
  },
  {
   "cell_type": "code",
   "execution_count": 287,
   "metadata": {
    "collapsed": true
   },
   "outputs": [],
   "source": [
    "# A function to get the unique elements in a column\n",
    "def get_unique_items_of_column(colname):\n",
    "    \"\"\"\n",
    "    returns unique list of items of a column\n",
    "    \n",
    "    Parameters\n",
    "    ----------\n",
    "    colname : str\n",
    "            column name of a dataset\n",
    "    \"\"\"\n",
    "    return list(set(sales_data[colname]))"
   ]
  },
  {
   "cell_type": "code",
   "execution_count": 297,
   "metadata": {
    "collapsed": true
   },
   "outputs": [],
   "source": [
    "# function to get the count of unique elements in a column\n",
    "def get_count_of_unique_items_of_column(colname):\n",
    "    \"\"\"\n",
    "    returns a dictionary with unique elements and their count in a column\n",
    "    \n",
    "    Parameters\n",
    "    ----------\n",
    "    colname : str\n",
    "            column name of a dataset\n",
    "    \"\"\"\n",
    "    return dict(sales_data.groupby(colname).size())"
   ]
  },
  {
   "cell_type": "code",
   "execution_count": 306,
   "metadata": {
    "collapsed": true
   },
   "outputs": [],
   "source": [
    "# function to get the order details of given order id\n",
    "def get_order_details(order_id):\n",
    "    \"\"\"\n",
    "    returns a dataframe of order Details of given order id\n",
    "    \n",
    "    Parameters\n",
    "    -----------\n",
    "    order_id : int\n",
    "            order id number\n",
    "    \"\"\"\n",
    "    order_details = sales_data[sales_data['ORDERNUMBER']==order_id]\n",
    "    return order_details"
   ]
  },
  {
   "cell_type": "code",
   "execution_count": 307,
   "metadata": {
    "collapsed": true
   },
   "outputs": [],
   "source": [
    "# function to get the list of order numbers with the given order status\n",
    "def get_order_numbers_byStatus(status):\n",
    "    \"\"\"\n",
    "    returns list of order numbers with the given order status\n",
    "    \n",
    "    Parameters\n",
    "    -----------\n",
    "    status : string\n",
    "            the order status(cancelled/in process/on hold/etc...)\n",
    "    \"\"\"\n",
    "    order_numbers = list(set(sales_data[sales_data['STATUS']==status]['ORDERNUMBER']))\n",
    "    return order_numbers\n",
    "    "
   ]
  },
  {
   "cell_type": "markdown",
   "metadata": {},
   "source": [
    "#### Plotting(Graphs) functions"
   ]
  },
  {
   "cell_type": "code",
   "execution_count": 289,
   "metadata": {
    "collapsed": true
   },
   "outputs": [],
   "source": [
    "# function to plot a bar chart for the given dictionary with its keys as x-axis and values as y-axis\n",
    "def barPlot(data_dict):\n",
    "    \"\"\"\n",
    "    returns bar chart for the given dictionary(data_dict) with its data_dict.keys() as x-axis data and data_dict.values() as y-axis\n",
    "    data\n",
    "    \n",
    "    Parameters\n",
    "    ----------\n",
    "    data_dict : dict\n",
    "            keys as x-axis data and values as y-axis data\n",
    "    \"\"\"\n",
    "    plt.bar(data_dict.keys(),data_dict.values())\n",
    "    plt.xticks(rotation=90)\n",
    "    return plt.show()"
   ]
  },
  {
   "cell_type": "markdown",
   "metadata": {},
   "source": [
    "### Sample Types of questions on the data set\n",
    "#### 1. What are the sales by product?"
   ]
  },
  {
   "cell_type": "code",
   "execution_count": 290,
   "metadata": {
    "collapsed": true
   },
   "outputs": [],
   "source": [
    "products = get_unique_items_of_column('PRODUCTLINE')"
   ]
  },
  {
   "cell_type": "code",
   "execution_count": 291,
   "metadata": {},
   "outputs": [
    {
     "name": "stdout",
     "output_type": "stream",
     "text": [
      "Unique products:\n",
      " ['Vintage Cars', 'Classic Cars', 'Trucks and Buses', 'Planes', 'Trains', 'Motorcycles', 'Ships']\n"
     ]
    }
   ],
   "source": [
    "print(\"Unique products:\\n\",products)"
   ]
  },
  {
   "cell_type": "code",
   "execution_count": 292,
   "metadata": {
    "collapsed": true
   },
   "outputs": [],
   "source": [
    "product_wise_sales = getSales(products,'PRODUCTLINE')"
   ]
  },
  {
   "cell_type": "code",
   "execution_count": 293,
   "metadata": {},
   "outputs": [
    {
     "name": "stdout",
     "output_type": "stream",
     "text": [
      "product wise total sales:\n",
      " {'Vintage Cars': 1903150.8399999992, 'Classic Cars': 3919615.659999997, 'Trucks and Buses': 1127789.8399999996, 'Planes': 975003.5700000001, 'Trains': 226243.46999999997, 'Motorcycles': 1166388.3400000003, 'Ships': 714437.13}\n"
     ]
    }
   ],
   "source": [
    "print(\"product wise total sales:\\n\",product_wise_sales)"
   ]
  },
  {
   "cell_type": "code",
   "execution_count": 294,
   "metadata": {},
   "outputs": [
    {
     "data": {
      "image/png": "[encoded data removed]",
      "text/plain": [
       "<matplotlib.figure.Figure at 0x1b208e3f358>"
      ]
     },
     "metadata": {},
     "output_type": "display_data"
    }
   ],
   "source": [
    "# bar chart of the product wise sales\n",
    "plt.title(\"product wise sales\")\n",
    "barPlot(product_wise_sales)"
   ]
  },
  {
   "cell_type": "markdown",
   "metadata": {},
   "source": [
    "#### 2. Number of orders in each order status?"
   ]
  },
  {
   "cell_type": "code",
   "execution_count": 298,
   "metadata": {
    "collapsed": true
   },
   "outputs": [],
   "source": [
    "no_of_orders_by_status = get_count_of_unique_items_of_column('STATUS')"
   ]
  },
  {
   "cell_type": "code",
   "execution_count": 299,
   "metadata": {},
   "outputs": [
    {
     "name": "stdout",
     "output_type": "stream",
     "text": [
      "{'Cancelled': 60, 'Disputed': 14, 'In Process': 41, 'On Hold': 44, 'Resolved': 47, 'Shipped': 2617}\n"
     ]
    }
   ],
   "source": [
    "print(no_of_orders_by_status)"
   ]
  },
  {
   "cell_type": "code",
   "execution_count": 301,
   "metadata": {},
   "outputs": [
    {
     "data": {
      "image/png": "[encoded data removed]",
      "text/plain": [
       "<matplotlib.figure.Figure at 0x1b204f2d470>"
      ]
     },
     "metadata": {},
     "output_type": "display_data"
    }
   ],
   "source": [
    "plt.title(\"No.of orders by order status\")\n",
    "barPlot(no_of_orders_by_status)"
   ]
  },
  {
   "cell_type": "markdown",
   "metadata": {},
   "source": [
    "#### 3. Show order details that are in cancelled state?"
   ]
  },
  {
   "cell_type": "code",
   "execution_count": 308,
   "metadata": {},
   "outputs": [
    {
     "name": "stdout",
     "output_type": "stream",
     "text": [
      "[10248, 10253, 10262, 10167]\n"
     ]
    }
   ],
   "source": [
    "cancelled_orders = get_order_numbers_byStatus('Cancelled')\n",
    "print(cancelled_orders)"
   ]
  },
  {
   "cell_type": "code",
   "execution_count": 320,
   "metadata": {},
   "outputs": [
    {
     "name": "stdout",
     "output_type": "stream",
     "text": [
      "order Number: 10248 \n",
      " order Details:\n",
      "       QUANTITYORDERED  PRICEEACH  ORDERLINENUMBER    SALES  ORDERDATE  QTR_ID  \\\n",
      "117                20     100.00                3  2910.40 2004-05-07       2   \n",
      "946                21      73.98                1  1553.58 2004-05-07       2   \n",
      "1000               32     100.00               12  3802.56 2004-05-07       2   \n",
      "1077               42     100.00               14  5082.42 2004-05-07       2   \n",
      "1301               42      75.48               11  3170.16 2004-05-07       2   \n",
      "1602               48     100.00               10  6960.48 2004-05-07       2   \n",
      "1831               30     100.00                5  3053.70 2004-05-07       2   \n",
      "1955               23      76.31                2  1755.13 2004-05-07       2   \n",
      "2469               36      71.34                6  2568.24 2004-05-07       2   \n",
      "2521               40     100.00               13  4157.20 2004-05-07       2   \n",
      "2600               32      75.89                4  2428.48 2004-05-07       2   \n",
      "2703               30     100.00                7  3245.40 2004-05-07       2   \n",
      "2729               35      90.37                8  3162.95 2004-05-07       2   \n",
      "2809               23      65.52                9  1506.96 2004-05-07       2   \n",
      "\n",
      "      MONTH_ID  YEAR_ID   PRODUCTLINE  MSRP   ...          PHONE  \\\n",
      "117          5     2004  Classic Cars   136   ...     2125557818   \n",
      "946          5     2004         Ships    86   ...     2125557818   \n",
      "1000         5     2004  Vintage Cars   136   ...     2125557818   \n",
      "1077         5     2004        Trains   100   ...     2125557818   \n",
      "1301         5     2004  Vintage Cars    87   ...     2125557818   \n",
      "1602         5     2004         Ships   122   ...     2125557818   \n",
      "1831         5     2004  Vintage Cars    88   ...     2125557818   \n",
      "1955         5     2004  Vintage Cars    83   ...     2125557818   \n",
      "2469         5     2004         Ships    66   ...     2125557818   \n",
      "2521         5     2004         Ships    86   ...     2125557818   \n",
      "2600         5     2004         Ships    72   ...     2125557818   \n",
      "2703         5     2004         Ships   100   ...     2125557818   \n",
      "2729         5     2004         Ships    99   ...     2125557818   \n",
      "2809         5     2004         Ships    54   ...     2125557818   \n",
      "\n",
      "                 ADDRESSLINE1 CITY STATE POSTALCODE COUNTRY TERRITORY  \\\n",
      "117   897 Long Airport Avenue  NYC    NY      10022     USA        NA   \n",
      "946   897 Long Airport Avenue  NYC    NY      10022     USA        NA   \n",
      "1000  897 Long Airport Avenue  NYC    NY      10022     USA        NA   \n",
      "1077  897 Long Airport Avenue  NYC    NY      10022     USA        NA   \n",
      "1301  897 Long Airport Avenue  NYC    NY      10022     USA        NA   \n",
      "1602  897 Long Airport Avenue  NYC    NY      10022     USA        NA   \n",
      "1831  897 Long Airport Avenue  NYC    NY      10022     USA        NA   \n",
      "1955  897 Long Airport Avenue  NYC    NY      10022     USA        NA   \n",
      "2469  897 Long Airport Avenue  NYC    NY      10022     USA        NA   \n",
      "2521  897 Long Airport Avenue  NYC    NY      10022     USA        NA   \n",
      "2600  897 Long Airport Avenue  NYC    NY      10022     USA        NA   \n",
      "2703  897 Long Airport Avenue  NYC    NY      10022     USA        NA   \n",
      "2729  897 Long Airport Avenue  NYC    NY      10022     USA        NA   \n",
      "2809  897 Long Airport Avenue  NYC    NY      10022     USA        NA   \n",
      "\n",
      "     CONTACTLASTNAME CONTACTFIRSTNAME DEALSIZE  \n",
      "117               Yu             Kwai    Small  \n",
      "946               Yu             Kwai    Small  \n",
      "1000              Yu             Kwai   Medium  \n",
      "1077              Yu             Kwai   Medium  \n",
      "1301              Yu             Kwai   Medium  \n",
      "1602              Yu             Kwai   Medium  \n",
      "1831              Yu             Kwai   Medium  \n",
      "1955              Yu             Kwai    Small  \n",
      "2469              Yu             Kwai    Small  \n",
      "2521              Yu             Kwai   Medium  \n",
      "2600              Yu             Kwai    Small  \n",
      "2703              Yu             Kwai   Medium  \n",
      "2729              Yu             Kwai   Medium  \n",
      "2809              Yu             Kwai    Small  \n",
      "\n",
      "[14 rows x 22 columns]\n",
      "order Number: 10253 \n",
      " order Details:\n",
      "       QUANTITYORDERED  PRICEEACH  ORDERLINENUMBER    SALES  ORDERDATE  QTR_ID  \\\n",
      "173                24     100.00               13  3922.56 2004-06-01       2   \n",
      "303                22     100.00               11  2402.84 2004-06-01       2   \n",
      "354                25      90.17               14  2254.25 2004-06-01       2   \n",
      "406                41     100.00               10  4910.57 2004-06-01       2   \n",
      "460                26     100.00                5  3054.48 2004-06-01       2   \n",
      "539                24     100.00                1  3374.88 2004-06-01       2   \n",
      "612                23      83.93                9  1930.39 2004-06-01       2   \n",
      "638                33     100.00                4  4459.62 2004-06-01       2   \n",
      "868                37     100.00                2  5177.04 2004-06-01       2   \n",
      "1037               40     100.00                6  6773.60 2004-06-01       2   \n",
      "1177               31     100.00                3  4029.38 2004-06-01       2   \n",
      "1804               40      42.67                7  1706.80 2004-06-01       2   \n",
      "1880               24      52.66               12  1263.84 2004-06-01       2   \n",
      "1982               39     100.00                8  5148.00 2004-06-01       2   \n",
      "\n",
      "      MONTH_ID  YEAR_ID   PRODUCTLINE  MSRP   ...              PHONE  \\\n",
      "173          6     2004  Classic Cars   194   ...     (171) 555-2282   \n",
      "303          6     2004  Classic Cars   117   ...     (171) 555-2282   \n",
      "354          6     2004  Classic Cars    79   ...     (171) 555-2282   \n",
      "406          6     2004  Classic Cars   115   ...     (171) 555-2282   \n",
      "460          6     2004  Classic Cars   141   ...     (171) 555-2282   \n",
      "539          6     2004  Classic Cars   124   ...     (171) 555-2282   \n",
      "612          6     2004  Classic Cars    77   ...     (171) 555-2282   \n",
      "638          6     2004  Classic Cars   142   ...     (171) 555-2282   \n",
      "868          6     2004  Classic Cars   132   ...     (171) 555-2282   \n",
      "1037         6     2004  Classic Cars   169   ...     (171) 555-2282   \n",
      "1177         6     2004  Classic Cars   141   ...     (171) 555-2282   \n",
      "1804         6     2004  Classic Cars    37   ...     (171) 555-2282   \n",
      "1880         6     2004  Classic Cars    61   ...     (171) 555-2282   \n",
      "1982         6     2004  Classic Cars   140   ...     (171) 555-2282   \n",
      "\n",
      "                      ADDRESSLINE1       CITY  STATE POSTALCODE COUNTRY  \\\n",
      "173   Berkeley Gardens 12  Brewery  Liverpool  OTHER    WX1 6LT      UK   \n",
      "303   Berkeley Gardens 12  Brewery  Liverpool  OTHER    WX1 6LT      UK   \n",
      "354   Berkeley Gardens 12  Brewery  Liverpool  OTHER    WX1 6LT      UK   \n",
      "406   Berkeley Gardens 12  Brewery  Liverpool  OTHER    WX1 6LT      UK   \n",
      "460   Berkeley Gardens 12  Brewery  Liverpool  OTHER    WX1 6LT      UK   \n",
      "539   Berkeley Gardens 12  Brewery  Liverpool  OTHER    WX1 6LT      UK   \n",
      "612   Berkeley Gardens 12  Brewery  Liverpool  OTHER    WX1 6LT      UK   \n",
      "638   Berkeley Gardens 12  Brewery  Liverpool  OTHER    WX1 6LT      UK   \n",
      "868   Berkeley Gardens 12  Brewery  Liverpool  OTHER    WX1 6LT      UK   \n",
      "1037  Berkeley Gardens 12  Brewery  Liverpool  OTHER    WX1 6LT      UK   \n",
      "1177  Berkeley Gardens 12  Brewery  Liverpool  OTHER    WX1 6LT      UK   \n",
      "1804  Berkeley Gardens 12  Brewery  Liverpool  OTHER    WX1 6LT      UK   \n",
      "1880  Berkeley Gardens 12  Brewery  Liverpool  OTHER    WX1 6LT      UK   \n",
      "1982  Berkeley Gardens 12  Brewery  Liverpool  OTHER    WX1 6LT      UK   \n",
      "\n",
      "     TERRITORY CONTACTLASTNAME CONTACTFIRSTNAME DEALSIZE  \n",
      "173       EMEA           Devon        Elizabeth   Medium  \n",
      "303       EMEA           Devon        Elizabeth    Small  \n",
      "354       EMEA           Devon        Elizabeth    Small  \n",
      "406       EMEA           Devon        Elizabeth   Medium  \n",
      "460       EMEA           Devon        Elizabeth   Medium  \n",
      "539       EMEA           Devon        Elizabeth   Medium  \n",
      "612       EMEA           Devon        Elizabeth    Small  \n",
      "638       EMEA           Devon        Elizabeth   Medium  \n",
      "868       EMEA           Devon        Elizabeth   Medium  \n",
      "1037      EMEA           Devon        Elizabeth   Medium  \n",
      "1177      EMEA           Devon        Elizabeth   Medium  \n",
      "1804      EMEA           Devon        Elizabeth    Small  \n",
      "1880      EMEA           Devon        Elizabeth    Small  \n",
      "1982      EMEA           Devon        Elizabeth   Medium  \n",
      "\n",
      "[14 rows x 22 columns]\n",
      "order Number: 10262 \n",
      " order Details:\n",
      "       QUANTITYORDERED  PRICEEACH  ORDERLINENUMBER    SALES  ORDERDATE  QTR_ID  \\\n",
      "564                49     100.00                9  6567.96 2004-06-24       2   \n",
      "947                32      84.30               15  2697.60 2004-06-24       2   \n",
      "1227               34     100.00               14  4103.46 2004-06-24       2   \n",
      "1525               34      97.38                1  3310.92 2004-06-24       2   \n",
      "1756               24      67.14               10  1611.36 2004-06-24       2   \n",
      "1906               46      70.35               11  3236.10 2004-06-24       2   \n",
      "1956               49      87.21               16  4273.29 2004-06-24       2   \n",
      "2009               48      61.42                8  2948.16 2004-06-24       2   \n",
      "2312               40      79.11                2  3164.40 2004-06-24       2   \n",
      "2363               49      37.97                3  1860.53 2004-06-24       2   \n",
      "2494               40      84.03                4  3361.20 2004-06-24       2   \n",
      "2546               44      94.14               13  4142.16 2004-06-24       2   \n",
      "2573               33      90.75                6  2994.75 2004-06-24       2   \n",
      "2676               27      76.00                5  2052.00 2004-06-24       2   \n",
      "2755               35      71.07                7  2487.45 2004-06-24       2   \n",
      "2782               21      57.11               12  1199.31 2004-06-24       2   \n",
      "\n",
      "      MONTH_ID  YEAR_ID   PRODUCTLINE  MSRP   ...              PHONE  \\\n",
      "564          6     2004        Planes   157   ...     (91) 555 94 44   \n",
      "947          6     2004         Ships    86   ...     (91) 555 94 44   \n",
      "1227         6     2004  Vintage Cars   105   ...     (91) 555 94 44   \n",
      "1525         6     2004        Planes   109   ...     (91) 555 94 44   \n",
      "1756         6     2004        Planes    68   ...     (91) 555 94 44   \n",
      "1906         6     2004  Vintage Cars    65   ...     (91) 555 94 44   \n",
      "1956         6     2004  Vintage Cars    83   ...     (91) 555 94 44   \n",
      "2009         6     2004        Planes    68   ...     (91) 555 94 44   \n",
      "2312         6     2004  Vintage Cars    68   ...     (91) 555 94 44   \n",
      "2363         6     2004  Vintage Cars    43   ...     (91) 555 94 44   \n",
      "2494         6     2004        Planes    91   ...     (91) 555 94 44   \n",
      "2546         6     2004         Ships    90   ...     (91) 555 94 44   \n",
      "2573         6     2004        Planes    99   ...     (91) 555 94 44   \n",
      "2676         6     2004        Planes    80   ...     (91) 555 94 44   \n",
      "2755         6     2004        Planes    74   ...     (91) 555 94 44   \n",
      "2782         6     2004        Planes    49   ...     (91) 555 94 44   \n",
      "\n",
      "            ADDRESSLINE1    CITY  STATE POSTALCODE COUNTRY TERRITORY  \\\n",
      "564   C/ Moralzarzal, 86  Madrid  OTHER      28034   Spain      EMEA   \n",
      "947   C/ Moralzarzal, 86  Madrid  OTHER      28034   Spain      EMEA   \n",
      "1227  C/ Moralzarzal, 86  Madrid  OTHER      28034   Spain      EMEA   \n",
      "1525  C/ Moralzarzal, 86  Madrid  OTHER      28034   Spain      EMEA   \n",
      "1756  C/ Moralzarzal, 86  Madrid  OTHER      28034   Spain      EMEA   \n",
      "1906  C/ Moralzarzal, 86  Madrid  OTHER      28034   Spain      EMEA   \n",
      "1956  C/ Moralzarzal, 86  Madrid  OTHER      28034   Spain      EMEA   \n",
      "2009  C/ Moralzarzal, 86  Madrid  OTHER      28034   Spain      EMEA   \n",
      "2312  C/ Moralzarzal, 86  Madrid  OTHER      28034   Spain      EMEA   \n",
      "2363  C/ Moralzarzal, 86  Madrid  OTHER      28034   Spain      EMEA   \n",
      "2494  C/ Moralzarzal, 86  Madrid  OTHER      28034   Spain      EMEA   \n",
      "2546  C/ Moralzarzal, 86  Madrid  OTHER      28034   Spain      EMEA   \n",
      "2573  C/ Moralzarzal, 86  Madrid  OTHER      28034   Spain      EMEA   \n",
      "2676  C/ Moralzarzal, 86  Madrid  OTHER      28034   Spain      EMEA   \n",
      "2755  C/ Moralzarzal, 86  Madrid  OTHER      28034   Spain      EMEA   \n",
      "2782  C/ Moralzarzal, 86  Madrid  OTHER      28034   Spain      EMEA   \n",
      "\n",
      "     CONTACTLASTNAME CONTACTFIRSTNAME DEALSIZE  \n",
      "564           Freyre            Diego   Medium  \n",
      "947           Freyre            Diego    Small  \n",
      "1227          Freyre            Diego   Medium  \n",
      "1525          Freyre            Diego   Medium  \n",
      "1756          Freyre            Diego    Small  \n",
      "1906          Freyre            Diego   Medium  \n",
      "1956          Freyre            Diego   Medium  \n",
      "2009          Freyre            Diego    Small  \n",
      "2312          Freyre            Diego   Medium  \n",
      "2363          Freyre            Diego    Small  \n",
      "2494          Freyre            Diego   Medium  \n",
      "2546          Freyre            Diego   Medium  \n",
      "2573          Freyre            Diego    Small  \n",
      "2676          Freyre            Diego    Small  \n",
      "2755          Freyre            Diego    Small  \n",
      "2782          Freyre            Diego    Small  \n",
      "\n",
      "[16 rows x 22 columns]\n",
      "order Number: 10167 \n",
      " order Details:\n",
      "       QUANTITYORDERED  PRICEEACH  ORDERLINENUMBER    SALES  ORDERDATE  QTR_ID  \\\n",
      "111                44     100.00                9  5924.16 2003-10-23       4   \n",
      "557                43     100.00                1  5763.72 2003-10-23       4   \n",
      "940                46      73.12                7  3363.52 2003-10-23       4   \n",
      "1220               34     100.00                6  3599.58 2003-10-23       4   \n",
      "1595               33     100.00               16  3812.16 2003-10-23       4   \n",
      "1749               21      69.88                2  1467.48 2003-10-23       4   \n",
      "1824               20      79.66               11  1593.20 2003-10-23       4   \n",
      "1899               32      63.12                3  2019.84 2003-10-23       4   \n",
      "1949               29      83.86                8  2431.94 2003-10-23       4   \n",
      "2462               43      75.34               12  3239.62 2003-10-23       4   \n",
      "2539               29     100.00                5  2940.02 2003-10-23       4   \n",
      "2593               46      70.11               10  3225.06 2003-10-23       4   \n",
      "2696               24     100.00               13  2812.80 2003-10-23       4   \n",
      "2722               28     100.00               14  3003.00 2003-10-23       4   \n",
      "2775               40      41.71                4  1668.40 2003-10-23       4   \n",
      "2802               38      48.59               15  1846.42 2003-10-23       4   \n",
      "\n",
      "      MONTH_ID  YEAR_ID   PRODUCTLINE  MSRP   ...            PHONE  \\\n",
      "111         10     2003  Classic Cars   136   ...     0695-34 6555   \n",
      "557         10     2003        Planes   157   ...     0695-34 6555   \n",
      "940         10     2003         Ships    86   ...     0695-34 6555   \n",
      "1220        10     2003  Vintage Cars   105   ...     0695-34 6555   \n",
      "1595        10     2003         Ships   122   ...     0695-34 6555   \n",
      "1749        10     2003        Planes    68   ...     0695-34 6555   \n",
      "1824        10     2003  Vintage Cars    88   ...     0695-34 6555   \n",
      "1899        10     2003  Vintage Cars    65   ...     0695-34 6555   \n",
      "1949        10     2003  Vintage Cars    83   ...     0695-34 6555   \n",
      "2462        10     2003         Ships    66   ...     0695-34 6555   \n",
      "2539        10     2003         Ships    90   ...     0695-34 6555   \n",
      "2593        10     2003         Ships    72   ...     0695-34 6555   \n",
      "2696        10     2003         Ships   100   ...     0695-34 6555   \n",
      "2722        10     2003         Ships    99   ...     0695-34 6555   \n",
      "2775        10     2003        Planes    49   ...     0695-34 6555   \n",
      "2802        10     2003         Ships    54   ...     0695-34 6555   \n",
      "\n",
      "      ADDRESSLINE1   CITY  STATE POSTALCODE COUNTRY TERRITORY CONTACTLASTNAME  \\\n",
      "111   ?kergatan 24  Boras  OTHER   S-844 67  Sweden      EMEA         Larsson   \n",
      "557   ?kergatan 24  Boras  OTHER   S-844 67  Sweden      EMEA         Larsson   \n",
      "940   ?kergatan 24  Boras  OTHER   S-844 67  Sweden      EMEA         Larsson   \n",
      "1220  ?kergatan 24  Boras  OTHER   S-844 67  Sweden      EMEA         Larsson   \n",
      "1595  ?kergatan 24  Boras  OTHER   S-844 67  Sweden      EMEA         Larsson   \n",
      "1749  ?kergatan 24  Boras  OTHER   S-844 67  Sweden      EMEA         Larsson   \n",
      "1824  ?kergatan 24  Boras  OTHER   S-844 67  Sweden      EMEA         Larsson   \n",
      "1899  ?kergatan 24  Boras  OTHER   S-844 67  Sweden      EMEA         Larsson   \n",
      "1949  ?kergatan 24  Boras  OTHER   S-844 67  Sweden      EMEA         Larsson   \n",
      "2462  ?kergatan 24  Boras  OTHER   S-844 67  Sweden      EMEA         Larsson   \n",
      "2539  ?kergatan 24  Boras  OTHER   S-844 67  Sweden      EMEA         Larsson   \n",
      "2593  ?kergatan 24  Boras  OTHER   S-844 67  Sweden      EMEA         Larsson   \n",
      "2696  ?kergatan 24  Boras  OTHER   S-844 67  Sweden      EMEA         Larsson   \n",
      "2722  ?kergatan 24  Boras  OTHER   S-844 67  Sweden      EMEA         Larsson   \n",
      "2775  ?kergatan 24  Boras  OTHER   S-844 67  Sweden      EMEA         Larsson   \n",
      "2802  ?kergatan 24  Boras  OTHER   S-844 67  Sweden      EMEA         Larsson   \n",
      "\n",
      "     CONTACTFIRSTNAME DEALSIZE  \n",
      "111             Maria   Medium  \n",
      "557             Maria   Medium  \n",
      "940             Maria   Medium  \n",
      "1220            Maria   Medium  \n",
      "1595            Maria   Medium  \n",
      "1749            Maria    Small  \n",
      "1824            Maria    Small  \n",
      "1899            Maria    Small  \n",
      "1949            Maria    Small  \n",
      "2462            Maria   Medium  \n",
      "2539            Maria    Small  \n",
      "2593            Maria   Medium  \n",
      "2696            Maria    Small  \n",
      "2722            Maria   Medium  \n",
      "2775            Maria    Small  \n",
      "2802            Maria    Small  \n",
      "\n",
      "[16 rows x 22 columns]\n"
     ]
    }
   ],
   "source": [
    "# print cancelled order details\n",
    "for order_number in cancelled_orders:\n",
    "    order_details = get_order_details(order_number).drop(['ORDERNUMBER','STATUS'],1)\n",
    "    print(\"order Number: {} \\n order Details:\\n {}\".format(order_number,order_details))"
   ]
  },
  {
   "cell_type": "markdown",
   "metadata": {},
   "source": [
    "#### 4. What are the products sold here?"
   ]
  },
  {
   "cell_type": "code",
   "execution_count": 321,
   "metadata": {},
   "outputs": [
    {
     "name": "stdout",
     "output_type": "stream",
     "text": [
      "['Vintage Cars', 'Classic Cars', 'Trucks and Buses', 'Planes', 'Trains', 'Motorcycles', 'Ships']\n"
     ]
    }
   ],
   "source": [
    "print(get_unique_items_of_column('PRODUCTLINE'))"
   ]
  },
  {
   "cell_type": "markdown",
   "metadata": {},
   "source": [
    "#### 5. What is the revenue generated by each customer?"
   ]
  },
  {
   "cell_type": "code",
   "execution_count": 322,
   "metadata": {
    "collapsed": true
   },
   "outputs": [],
   "source": [
    "customers = get_unique_items_of_column('CUSTOMERNAME')"
   ]
  },
  {
   "cell_type": "code",
   "execution_count": 324,
   "metadata": {},
   "outputs": [
    {
     "name": "stdout",
     "output_type": "stream",
     "text": [
      "Customer list:\n",
      " ['Enaco Distributors', 'Lyon Souveniers', 'Vida Sport, Ltd', 'Signal Collectibles Ltd.', 'Toys of Finland, Co.', 'Reims Collectables', 'Land of Toys Inc.', 'Toms Spezialitten, Ltd', 'Osaka Souveniers Co.', 'Diecast Collectables', 'Australian Gift Network, Co', 'Online Diecast Creations Co.', 'Iberia Gift Imports, Corp.', 'Boards & Toys Co.', 'The Sharp Gifts Warehouse', 'Suominen Souveniers', \"Marta's Replicas Co.\", 'Gifts4AllAges.com', 'Saveley & Henriot, Co.', 'Corporate Gift Ideas Co.', 'Royal Canadian Collectables, Ltd.', 'Rovelli Gifts', 'Classic Gift Ideas, Inc', 'Daedalus Designs Imports', 'Handji Gifts& Co', 'Toys4GrownUps.com', 'Atelier graphique', 'Bavarian Collectables Imports, Co.', 'Motor Mint Distributors Inc.', 'Cambridge Collectables Co.', 'Stylish Desk Decors, Co.', 'Mini Caravy', 'Australian Collectables, Ltd', \"La Corne D'abondance, Co.\", \"Anna's Decorations, Ltd\", 'Danish Wholesale Imports', 'Mini Gifts Distributors Ltd.', 'Australian Collectors, Co.', 'Collectable Mini Designs Co.', \"Men 'R' US Retailers, Ltd.\", 'Cruz & Sons Co.', 'Diecast Classics Inc.', 'Petit Auto', 'giftsbymail.co.uk', 'Super Scale Inc.', 'Gift Depot Inc.', 'AV Stores, Co.', 'Baane Mini Imports', 'Volvo Model Replicas, Co', 'Royale Belge', 'Mini Wheels Co.', 'Alpha Cognac', 'Muscle Machine Inc', 'Norway Gifts By Mail, Co.', 'Canadian Gift Exchange Network', 'Dragon Souveniers, Ltd.', 'Quebec Home Shopping Network', 'Online Mini Collectables', 'Classic Legends Inc.', 'Auto Canal Petit', 'Scandinavian Gift Ideas', 'Souveniers And Things Co.', 'Oulu Toy Supplies, Inc.', 'Collectables For Less Inc.', 'Signal Gift Stores', 'La Rochelle Gifts', 'Microscale Inc.', 'Blauer See Auto, Co.', 'Auto-Moto Classics Inc.', 'Gift Ideas Corp.', 'Auto Assoc. & Cie.', 'West Coast Collectables Co.', 'Clover Collections, Co.', 'FunGiftIdeas.com', 'Tokyo Collectables, Ltd', 'UK Collectables, Ltd.', 'Mini Classics', 'Marseille Mini Autos', 'Herkku Gifts', 'Mini Auto Werke', 'CAF Imports', \"L'ordine Souveniers\", 'Corrida Auto Replicas, Ltd', 'Salzburg Collectables', 'Heintze Collectables', 'Double Decker Gift Stores, Ltd', 'Mini Creations Ltd.', 'Technics Stores Inc.', 'Vitachrome Inc.', 'Tekni Collectables Inc.', 'Euro Shopping Channel', 'Amica Models & Co.']\n"
     ]
    }
   ],
   "source": [
    "print(\"Customer list:\\n\",customers)"
   ]
  },
  {
   "cell_type": "code",
   "execution_count": 325,
   "metadata": {
    "collapsed": true
   },
   "outputs": [],
   "source": [
    "customer_wise_sales = getSales(customers,'CUSTOMERNAME')"
   ]
  },
  {
   "cell_type": "code",
   "execution_count": 326,
   "metadata": {},
   "outputs": [
    {
     "name": "stdout",
     "output_type": "stream",
     "text": [
      "{'Enaco Distributors': 78411.86000000002, 'Lyon Souveniers': 78570.34000000001, 'Vida Sport, Ltd': 117713.55999999998, 'Signal Collectibles Ltd.': 50218.51000000001, 'Toys of Finland, Co.': 111250.37999999996, 'Reims Collectables': 135042.94, 'Land of Toys Inc.': 164069.44000000003, 'Toms Spezialitten, Ltd': 100306.58, 'Osaka Souveniers Co.': 67605.07, 'Diecast Collectables': 70859.78, 'Australian Gift Network, Co': 59469.11999999999, 'Online Diecast Creations Co.': 131685.30000000002, 'Iberia Gift Imports, Corp.': 54723.62, 'Boards & Toys Co.': 9129.349999999999, 'The Sharp Gifts Warehouse': 160010.26999999996, 'Suominen Souveniers': 113961.14999999997, \"Marta's Replicas Co.\": 103080.37999999999, 'Gifts4AllAges.com': 83209.88, 'Saveley & Henriot, Co.': 142874.25000000003, 'Corporate Gift Ideas Co.': 149882.49999999997, 'Royal Canadian Collectables, Ltd.': 74634.84999999999, 'Rovelli Gifts': 137955.72000000003, 'Classic Gift Ideas, Inc': 67506.96999999999, 'Daedalus Designs Imports': 69052.41, 'Handji Gifts& Co': 115498.73000000001, 'Toys4GrownUps.com': 104561.95999999998, 'Atelier graphique': 24179.96, 'Bavarian Collectables Imports, Co.': 34993.92, 'Motor Mint Distributors Inc.': 83682.16, 'Cambridge Collectables Co.': 36163.619999999995, 'Stylish Desk Decors, Co.': 88804.5, 'Mini Caravy': 80438.48, 'Australian Collectables, Ltd': 64591.46000000001, \"La Corne D'abondance, Co.\": 97203.68000000001, \"Anna's Decorations, Ltd\": 153996.13000000003, 'Danish Wholesale Imports': 145041.6, 'Mini Gifts Distributors Ltd.': 654858.06, 'Australian Collectors, Co.': 200995.40999999997, 'Collectable Mini Designs Co.': 87489.22999999998, \"Men 'R' US Retailers, Ltd.\": 48048.46, 'Cruz & Sons Co.': 94015.73, 'Diecast Classics Inc.': 122138.14000000001, 'Petit Auto': 74972.52, 'giftsbymail.co.uk': 78240.83999999998, 'Super Scale Inc.': 79472.07, 'Gift Depot Inc.': 101894.79000000001, 'AV Stores, Co.': 157807.80999999997, 'Baane Mini Imports': 116599.19, 'Volvo Model Replicas, Co': 75754.88, 'Royale Belge': 33440.1, 'Mini Wheels Co.': 74476.18, 'Alpha Cognac': 70488.44, 'Muscle Machine Inc': 197736.93999999997, 'Norway Gifts By Mail, Co.': 79224.23, 'Canadian Gift Exchange Network': 75238.92, 'Dragon Souveniers, Ltd.': 172989.68000000008, 'Quebec Home Shopping Network': 74204.79, 'Online Mini Collectables': 57197.95999999999, 'Classic Legends Inc.': 77795.2, 'Auto Canal Petit': 93170.65999999999, 'Scandinavian Gift Ideas': 134259.33000000002, 'Souveniers And Things Co.': 151570.98000000004, 'Oulu Toy Supplies, Inc.': 104370.38, 'Collectables For Less Inc.': 81577.98, 'Signal Gift Stores': 82751.08000000002, 'La Rochelle Gifts': 180124.9, 'Microscale Inc.': 33144.93000000001, 'Blauer See Auto, Co.': 85171.58999999998, 'Auto-Moto Classics Inc.': 26479.260000000002, 'Gift Ideas Corp.': 57294.420000000006, 'Auto Assoc. & Cie.': 64834.32000000001, 'West Coast Collectables Co.': 46084.63999999999, 'Clover Collections, Co.': 57756.43, 'FunGiftIdeas.com': 98923.73000000003, 'Tokyo Collectables, Ltd': 120562.73999999996, 'UK Collectables, Ltd.': 118008.26999999999, 'Mini Classics': 85555.98999999998, 'Marseille Mini Autos': 74936.14, 'Herkku Gifts': 111640.28, 'Mini Auto Werke': 52263.899999999994, 'CAF Imports': 49642.05, \"L'ordine Souveniers\": 142601.33000000002, 'Corrida Auto Replicas, Ltd': 120615.28, 'Salzburg Collectables': 149798.63, 'Heintze Collectables': 100595.54999999999, 'Double Decker Gift Stores, Ltd': 36019.04, 'Mini Creations Ltd.': 108951.13, 'Technics Stores Inc.': 120783.07, 'Vitachrome Inc.': 88041.26000000001, 'Tekni Collectables Inc.': 83228.19, 'Euro Shopping Channel': 912294.1100000002, 'Amica Models & Co.': 94117.26000000002}\n"
     ]
    }
   ],
   "source": [
    "print(customer_wise_sales)"
   ]
  },
  {
   "cell_type": "code",
   "execution_count": 329,
   "metadata": {},
   "outputs": [
    {
     "data": {
      "image/png": "[encoded data removed]",
      "text/plain": [
       "<matplotlib.figure.Figure at 0x1b209321cc0>"
      ]
     },
     "metadata": {},
     "output_type": "display_data"
    }
   ],
   "source": [
    "barPlot(customer_wise_sales)"
   ]
  },
  {
   "cell_type": "markdown",
   "metadata": {},
   "source": [
    "#### 6. Year wise sales?"
   ]
  },
  {
   "cell_type": "code",
   "execution_count": 331,
   "metadata": {},
   "outputs": [],
   "source": [
    "#sales_data.groupby('YEAR_ID').sum()['SALES']"
   ]
  },
  {
   "cell_type": "code",
   "execution_count": 332,
   "metadata": {
    "collapsed": true
   },
   "outputs": [],
   "source": [
    "years_in_data_set = get_unique_items_of_column('YEAR_ID')"
   ]
  },
  {
   "cell_type": "code",
   "execution_count": 333,
   "metadata": {},
   "outputs": [
    {
     "name": "stdout",
     "output_type": "stream",
     "text": [
      "[2003, 2004, 2005]\n"
     ]
    }
   ],
   "source": [
    "print(years_in_data_set)"
   ]
  },
  {
   "cell_type": "code",
   "execution_count": 334,
   "metadata": {},
   "outputs": [],
   "source": [
    "year_wise_sales  = getSales(years_in_data_set,'YEAR_ID')"
   ]
  },
  {
   "cell_type": "code",
   "execution_count": 335,
   "metadata": {},
   "outputs": [
    {
     "name": "stdout",
     "output_type": "stream",
     "text": [
      "{2003: 3516979.540000001, 2004: 4724162.599999997, 2005: 1791486.71}\n"
     ]
    }
   ],
   "source": [
    "print(year_wise_sales)"
   ]
  },
  {
   "cell_type": "code",
   "execution_count": 336,
   "metadata": {},
   "outputs": [
    {
     "data": {
      "image/png": "[encoded data removed]",
      "text/plain": [
       "<matplotlib.figure.Figure at 0x1b2094c5828>"
      ]
     },
     "metadata": {},
     "output_type": "display_data"
    }
   ],
   "source": [
    "plt.title('YEAR wise sales')\n",
    "barPlot(year_wise_sales)"
   ]
  },
  {
   "cell_type": "markdown",
   "metadata": {},
   "source": [
    "#### 7. Show year wise number of orders?"
   ]
  },
  {
   "cell_type": "code",
   "execution_count": 359,
   "metadata": {},
   "outputs": [],
   "source": [
    "#sales_data.groupby('YEAR_ID').count()['ORDERNUMBER']"
   ]
  },
  {
   "cell_type": "code",
   "execution_count": 360,
   "metadata": {},
   "outputs": [],
   "source": [
    "year_wise_total_orders = get_count_of_unique_items_of_column('YEAR_ID')"
   ]
  },
  {
   "cell_type": "code",
   "execution_count": 361,
   "metadata": {},
   "outputs": [
    {
     "name": "stdout",
     "output_type": "stream",
     "text": [
      "{2003: 1000, 2004: 1345, 2005: 478}\n"
     ]
    }
   ],
   "source": [
    "print(year_wise_total_orders)"
   ]
  },
  {
   "cell_type": "code",
   "execution_count": 363,
   "metadata": {},
   "outputs": [
    {
     "data": {
      "image/png": "[encoded data removed]",
      "text/plain": [
       "<matplotlib.figure.Figure at 0x1b204fba358>"
      ]
     },
     "metadata": {},
     "output_type": "display_data"
    }
   ],
   "source": [
    "plt.title(\"Year wise number of orders\")\n",
    "plt.xlabel(\"year\")\n",
    "plt.ylabel(\"No.of orders\")\n",
    "barPlot(year_wise_total_orders)"
   ]
  },
  {
   "cell_type": "markdown",
   "metadata": {},
   "source": [
    "#### 8. Country wise sales?"
   ]
  },
  {
   "cell_type": "code",
   "execution_count": 364,
   "metadata": {
    "collapsed": true
   },
   "outputs": [],
   "source": [
    "countries = get_unique_items_of_column('COUNTRY')"
   ]
  },
  {
   "cell_type": "code",
   "execution_count": 365,
   "metadata": {},
   "outputs": [
    {
     "name": "stdout",
     "output_type": "stream",
     "text": [
      "['Belgium', 'USA', 'Finland', 'Philippines', 'Germany', 'Switzerland', 'Australia', 'Japan', 'Denmark', 'Ireland', 'Spain', 'Singapore', 'Austria', 'UK', 'Sweden', 'Italy', 'France', 'Canada', 'Norway']\n"
     ]
    }
   ],
   "source": [
    "print(countries)"
   ]
  },
  {
   "cell_type": "code",
   "execution_count": 366,
   "metadata": {},
   "outputs": [],
   "source": [
    "country_wise_sales = getSales(uni_country,'COUNTRY')"
   ]
  },
  {
   "cell_type": "code",
   "execution_count": 367,
   "metadata": {},
   "outputs": [
    {
     "data": {
      "text/plain": [
       "{'Australia': 630623.1000000001,\n",
       " 'Austria': 202062.53,\n",
       " 'Belgium': 108412.62,\n",
       " 'Canada': 224078.55999999994,\n",
       " 'Denmark': 245637.15,\n",
       " 'Finland': 329581.9100000001,\n",
       " 'France': 1110916.5199999993,\n",
       " 'Germany': 220472.08999999994,\n",
       " 'Ireland': 57756.43,\n",
       " 'Italy': 374674.30999999976,\n",
       " 'Japan': 188167.80999999997,\n",
       " 'Norway': 307463.7000000001,\n",
       " 'Philippines': 94015.73,\n",
       " 'Singapore': 288488.41000000003,\n",
       " 'Spain': 1215686.9200000009,\n",
       " 'Sweden': 210014.21,\n",
       " 'Switzerland': 117713.55999999998,\n",
       " 'UK': 478880.4600000001,\n",
       " 'USA': 3627982.83}"
      ]
     },
     "execution_count": 367,
     "metadata": {},
     "output_type": "execute_result"
    }
   ],
   "source": [
    "country_wise_sales"
   ]
  },
  {
   "cell_type": "code",
   "execution_count": 368,
   "metadata": {},
   "outputs": [
    {
     "data": {
      "image/png": "[encoded data removed]",
      "text/plain": [
       "<matplotlib.figure.Figure at 0x1b204e35f28>"
      ]
     },
     "metadata": {},
     "output_type": "display_data"
    }
   ],
   "source": [
    "plt.title(\"Country wise sales\")\n",
    "plt.xlabel(\"country\")\n",
    "plt.ylabel(\"sales\")\n",
    "barPlot(country_sales)"
   ]
  },
  {
   "cell_type": "markdown",
   "metadata": {},
   "source": [
    "#### 9. What are the country wise sales in 2005? "
   ]
  },
  {
   "cell_type": "code",
   "execution_count": 369,
   "metadata": {},
   "outputs": [],
   "source": [
    "country_wise_sales_in_year = getSales(countries,'COUNTRY',year=2005)"
   ]
  },
  {
   "cell_type": "code",
   "execution_count": 370,
   "metadata": {},
   "outputs": [
    {
     "data": {
      "text/plain": [
       "{'Australia': 145091.97,\n",
       " 'Austria': 68250.26000000001,\n",
       " 'Belgium': 25040.11,\n",
       " 'Canada': 33692.97,\n",
       " 'Denmark': 26012.870000000003,\n",
       " 'Finland': 126851.70999999998,\n",
       " 'France': 242956.4,\n",
       " 'Germany': 0,\n",
       " 'Ireland': 0,\n",
       " 'Italy': 41509.94,\n",
       " 'Japan': 38745.34,\n",
       " 'Norway': 0,\n",
       " 'Philippines': 0,\n",
       " 'Singapore': 6763.18,\n",
       " 'Spain': 326798.17000000004,\n",
       " 'Sweden': 31606.72,\n",
       " 'Switzerland': 0,\n",
       " 'UK': 40802.810000000005,\n",
       " 'USA': 637364.2600000001}"
      ]
     },
     "execution_count": 370,
     "metadata": {},
     "output_type": "execute_result"
    }
   ],
   "source": [
    "country_wise_sales_in_year"
   ]
  },
  {
   "cell_type": "code",
   "execution_count": 372,
   "metadata": {},
   "outputs": [
    {
     "data": {
      "image/png": "[encoded data removed]",
      "text/plain": [
       "<matplotlib.figure.Figure at 0x1b2051a04a8>"
      ]
     },
     "metadata": {},
     "output_type": "display_data"
    }
   ],
   "source": [
    "plt.title(\"Country wise sales in 2005\")\n",
    "plt.xlabel(\"Country\")\n",
    "plt.ylabel(\"sales\")\n",
    "barPlot(country_wise_sales_in_year)"
   ]
  },
  {
   "cell_type": "markdown",
   "metadata": {},
   "source": [
    "#### 10. Deal wise sales?"
   ]
  },
  {
   "cell_type": "code",
   "execution_count": 374,
   "metadata": {
    "collapsed": true
   },
   "outputs": [],
   "source": [
    "deal_sizes = get_unique_items_of_column('DEALSIZE')"
   ]
  },
  {
   "cell_type": "code",
   "execution_count": 375,
   "metadata": {},
   "outputs": [
    {
     "name": "stdout",
     "output_type": "stream",
     "text": [
      "['Small', 'Large', 'Medium']\n"
     ]
    }
   ],
   "source": [
    "print(deal_sizes)"
   ]
  },
  {
   "cell_type": "code",
   "execution_count": 376,
   "metadata": {},
   "outputs": [],
   "source": [
    "deal_size_wise_sales = getSales(deal_sizes,'DEALSIZE')"
   ]
  },
  {
   "cell_type": "code",
   "execution_count": 377,
   "metadata": {},
   "outputs": [
    {
     "name": "stdout",
     "output_type": "stream",
     "text": [
      "{'Small': 2643077.349999997, 'Large': 1302119.2600000007, 'Medium': 6087432.240000006}\n"
     ]
    }
   ],
   "source": [
    "print(deal_size_wise_sales)"
   ]
  },
  {
   "cell_type": "code",
   "execution_count": 378,
   "metadata": {},
   "outputs": [
    {
     "data": {
      "image/png": "[encoded data removed]",
      "text/plain": [
       "<matplotlib.figure.Figure at 0x1b208914b38>"
      ]
     },
     "metadata": {},
     "output_type": "display_data"
    }
   ],
   "source": [
    "plt.title(\"Deal size wise Sales\")\n",
    "plt.xlabel(\"Deal size\")\n",
    "plt.ylabel(\"Sales\")\n",
    "barPlot(deal_size_wise_sales)"
   ]
  },
  {
   "cell_type": "markdown",
   "metadata": {},
   "source": [
    "#### 11. Deal size wise sales in  2005?"
   ]
  },
  {
   "cell_type": "code",
   "execution_count": 384,
   "metadata": {
    "collapsed": true
   },
   "outputs": [],
   "source": [
    "deal_size_wise_sales_in_year = getSales(deal_sizes,'DEALSIZE', year=2005)"
   ]
  },
  {
   "cell_type": "code",
   "execution_count": 385,
   "metadata": {},
   "outputs": [
    {
     "data": {
      "text/plain": [
       "{'Large': 351545.6099999999, 'Medium': 1039362.6199999999, 'Small': 400578.48}"
      ]
     },
     "execution_count": 385,
     "metadata": {},
     "output_type": "execute_result"
    }
   ],
   "source": [
    "deal_size_wise_sales_in_year"
   ]
  },
  {
   "cell_type": "code",
   "execution_count": 386,
   "metadata": {},
   "outputs": [
    {
     "data": {
      "image/png": "[encoded data removed]",
      "text/plain": [
       "<matplotlib.figure.Figure at 0x1b208da7668>"
      ]
     },
     "metadata": {},
     "output_type": "display_data"
    }
   ],
   "source": [
    "plt.title(\"Deal size wise sales in 2005\")\n",
    "plt.xlabel(\"Deal size\")\n",
    "plt.ylabel(\"Sales\")\n",
    "barPlot(deal_size_wise_sales_in_year)"
   ]
  },
  {
   "cell_type": "markdown",
   "metadata": {},
   "source": [
    "#### 12. Number of orders by deal size?"
   ]
  },
  {
   "cell_type": "code",
   "execution_count": 390,
   "metadata": {
    "collapsed": true
   },
   "outputs": [],
   "source": [
    "deal_size_wise_total_number_of_orders = get_count_of_unique_items_of_column('DEALSIZE')"
   ]
  },
  {
   "cell_type": "code",
   "execution_count": 391,
   "metadata": {},
   "outputs": [
    {
     "name": "stdout",
     "output_type": "stream",
     "text": [
      "{'Large': 157, 'Medium': 1384, 'Small': 1282}\n"
     ]
    }
   ],
   "source": [
    "print(deal_size_wise_total_number_of_orders)"
   ]
  },
  {
   "cell_type": "code",
   "execution_count": 392,
   "metadata": {},
   "outputs": [
    {
     "data": {
      "image/png": "[encoded data removed]",
      "text/plain": [
       "<matplotlib.figure.Figure at 0x1b20919d940>"
      ]
     },
     "metadata": {},
     "output_type": "display_data"
    }
   ],
   "source": [
    "plt.title(\"Deal size wise total number of orders\")\n",
    "plt.xlabel(\"Deal size\")\n",
    "plt.ylabel(\"Total number of orders\")\n",
    "barPlot(deal_size_wise_total_number_of_orders)"
   ]
  },
  {
   "cell_type": "code",
   "execution_count": null,
   "metadata": {
    "collapsed": true
   },
   "outputs": [],
   "source": []
  }
 ],
 "metadata": {
  "kernelspec": {
   "display_name": "Python 3",
   "language": "python",
   "name": "python3"
  },
  "language_info": {
   "codemirror_mode": {
    "name": "ipython",
    "version": 3
   },
   "file_extension": ".py",
   "mimetype": "text/x-python",
   "name": "python",
   "nbconvert_exporter": "python",
   "pygments_lexer": "ipython3",
   "version": "3.6.3"
  }
 },
 "nbformat": 4,
 "nbformat_minor": 2
}
